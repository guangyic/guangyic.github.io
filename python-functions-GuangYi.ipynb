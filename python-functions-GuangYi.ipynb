{
 "cells": [
  {
   "cell_type": "markdown",
   "metadata": {},
   "source": [
    "<img src=\"http://imgur.com/1ZcRyrc.png\" style=\"float: left; margin: 20px; height: 55px\">\n",
    "\n",
    "## Practice Python Functions\n",
    "\n",
    "_Author: Ryan Dunlap | DSI-SF_\n",
    "\n",
    "---"
   ]
  },
  {
   "cell_type": "markdown",
   "metadata": {},
   "source": [
    "### Resources - Potentially Helpful Functions\n",
    "\n",
    "* [Dictionary Comprehension](https://docs.python.org/2/tutorial/datastructures.html#dictionaries)\n",
    "* [Enumerate](https://docs.python.org/2/library/functions.html#enumerate)\n",
    "* [Length](https://docs.python.org/2/library/functions.html#len)\n",
    "* [Int](https://docs.python.org/2/library/functions.html#int)\n",
    "* [List](https://docs.python.org/2/library/functions.html#list)"
   ]
  },
  {
   "cell_type": "markdown",
   "metadata": {},
   "source": [
    "Now-a-days, most of the components of the `String` module are already built into python however, it still has several [constant values](https://docs.python.org/2/library/string.html#string-constants) which can be useful, such as:\n",
    "```python\n",
    "string.ascii_uppercase\n",
    "```"
   ]
  },
  {
   "cell_type": "code",
   "execution_count": 1,
   "metadata": {},
   "outputs": [
    {
     "data": {
      "text/plain": [
       "'ABCDEFGHIJKLMNOPQRSTUVWXYZ'"
      ]
     },
     "execution_count": 1,
     "metadata": {},
     "output_type": "execute_result"
    }
   ],
   "source": [
    "import string\n",
    "\n",
    "string.ascii_uppercase"
   ]
  },
  {
   "cell_type": "markdown",
   "metadata": {},
   "source": [
    "---\n",
    "\n",
    "### 1. Write a function that takes the length of a side of a square as an argument and returns the area of the square."
   ]
  },
  {
   "cell_type": "code",
   "execution_count": 4,
   "metadata": {},
   "outputs": [
    {
     "name": "stdout",
     "output_type": "stream",
     "text": [
      "The area of a square with a length of 2 is 4\n"
     ]
    }
   ],
   "source": [
    "def area_square(length) :\n",
    "    area = length ** 2\n",
    "    print 'The area of a square with a length of', length,  'is', area\n",
    "    \n",
    "area_square(2)"
   ]
  },
  {
   "cell_type": "markdown",
   "metadata": {},
   "source": [
    "---\n",
    "\n",
    "### 2. Write a function that takes the heigth and width of a triangle and returns the area."
   ]
  },
  {
   "cell_type": "code",
   "execution_count": 5,
   "metadata": {},
   "outputs": [
    {
     "name": "stdout",
     "output_type": "stream",
     "text": [
      "The area of a square with a height of 3 and a base of 4 is 6.0\n"
     ]
    }
   ],
   "source": [
    "def area_triangle(height, base) :\n",
    "    area = 0.5 * height * base\n",
    "    print 'The area of a square with a height of', height, 'and a base of', base, 'is', area\n",
    "    \n",
    "area_triangle(3, 4)"
   ]
  },
  {
   "cell_type": "markdown",
   "metadata": {},
   "source": [
    "---\n",
    "\n",
    "### 3. Write a function that takes a string as an argument and returns a tuple consisting of two elements:\n",
    "- **A list of all the characters in the string.** \n",
    "- **A count of the number of characters in the string.**"
   ]
  },
  {
   "cell_type": "code",
   "execution_count": 38,
   "metadata": {},
   "outputs": [
    {
     "name": "stdout",
     "output_type": "stream",
     "text": [
      "(['w', 'e', 'a', 's', 'e', 'l', ' ', 'h', 'o', 'o', 'k'], 11)\n"
     ]
    }
   ],
   "source": [
    "def string_func(string_arg) :\n",
    "    count = len(string_arg)\n",
    "    tuple_item = []\n",
    "    for i in range(0, count) :\n",
    "        tuple_item.append(string_arg[i])\n",
    "    answer = (tuple_item, count)\n",
    "    print answer\n",
    "    \n",
    "# Can use list(string_arg) to achieve same thing instead of a loop\n",
    "    \n",
    "string_func('weasel hook')"
   ]
  },
  {
   "cell_type": "markdown",
   "metadata": {},
   "source": [
    "---\n",
    "\n",
    "### 4. Write a function that takes two integers, passed as strings, and returns the sum, difference, and product as a tuple (all values as integers)."
   ]
  },
  {
   "cell_type": "code",
   "execution_count": 37,
   "metadata": {},
   "outputs": [
    {
     "name": "stdout",
     "output_type": "stream",
     "text": [
      "(10, -2, 24)\n"
     ]
    }
   ],
   "source": [
    "def integer_func(int1, int2) :\n",
    "    \n",
    "    int3 = int(int1)\n",
    "    int4 = int(int2)\n",
    "    addition = int3 + int4\n",
    "    difference = int3 - int4\n",
    "    product = int3 * int4\n",
    "    answer = (addition, difference, product)\n",
    "    print answer\n",
    "    \n",
    "integer_func(\"4\", \"6\")"
   ]
  },
  {
   "cell_type": "markdown",
   "metadata": {},
   "source": [
    "---\n",
    "\n",
    "### 5. Write a function that takes a list as the argument and returns a tuple consisting of two elements:\n",
    "- **A list with the items in reverse order.**  \n",
    "- **A list of the items in the original list that have an odd index.**"
   ]
  },
  {
   "cell_type": "code",
   "execution_count": 17,
   "metadata": {},
   "outputs": [
    {
     "name": "stdout",
     "output_type": "stream",
     "text": [
      "(['haha', 'food', 'Bob', 15, 9, 1, 0], [1, 'food', 0])\n"
     ]
    }
   ],
   "source": [
    "def list_function(list1) :\n",
    "    reverse_list = sorted(list1, reverse=True)\n",
    "    # Reverse_list can also be written as list1[::-1] \n",
    "    index = len(list1)\n",
    "    odd_list = []\n",
    "    \n",
    "    for i in range(0, index) :\n",
    "        if i % 2 == 0 :\n",
    "            pass\n",
    "        else :\n",
    "            odd_list.append(list1[i])\n",
    "    # Slicing can also accomplish this. odd_list = my_list[1::2]         \n",
    "    answer = (reverse_list, odd_list)\n",
    "    print answer\n",
    "    \n",
    "list1 = ['Bob', 1, 15, 'food', 'haha', 0, 9]\n",
    "list_function(list1)"
   ]
  },
  {
   "cell_type": "markdown",
   "metadata": {},
   "source": [
    "---\n",
    "\n",
    "### Challenge Problem: Write a function that returns the score for a word.  The score of the word is the sum of the scores of its letters. Each letter's score is equal to it's position in the alphabet.\n",
    "\n",
    "So, for example:\n",
    "\n",
    "* A = 1, B = 2, C = 3, D = 4, E = 5\n",
    "* abe = 8 = (1 + 2 + 5)\n",
    "\n",
    "\n",
    "_Hint: The string library has a property_ `ascii_lowercase` _that can save some typing here._\n"
   ]
  },
  {
   "cell_type": "code",
   "execution_count": 35,
   "metadata": {},
   "outputs": [
    {
     "name": "stdout",
     "output_type": "stream",
     "text": [
      "3\n"
     ]
    }
   ],
   "source": [
    "def scrabble_func(word) :\n",
    "    # Change the case of the string to lowercase, and ascertain how many characters to score\n",
    "    lower_word = word.lower()\n",
    "    index = len(lower_word)\n",
    "    score = []\n",
    "    \n",
    "    # Define scoring parameters\n",
    "    alphabet_string = string.ascii_lowercase\n",
    "    score_range = range(1, 27)\n",
    "    \n",
    "    # Calculate score\n",
    "    for i in range(0, index) :\n",
    "        letter = lower_word[i]\n",
    "        letter_score_index = alphabet_string.index(letter)\n",
    "        letter_score = score_range[letter_score_index]\n",
    "        score.append(letter_score)\n",
    "    answer = sum(score)\n",
    "    print answer\n",
    "\n",
    "scrabble_func('AAA')"
   ]
  },
  {
   "cell_type": "code",
   "execution_count": null,
   "metadata": {
    "collapsed": true
   },
   "outputs": [],
   "source": []
  }
 ],
 "metadata": {
  "anaconda-cloud": {},
  "kernelspec": {
   "display_name": "Python 2",
   "language": "python",
   "name": "python2"
  },
  "language_info": {
   "codemirror_mode": {
    "name": "ipython",
    "version": 2
   },
   "file_extension": ".py",
   "mimetype": "text/x-python",
   "name": "python",
   "nbconvert_exporter": "python",
   "pygments_lexer": "ipython2",
   "version": "2.7.13"
  }
 },
 "nbformat": 4,
 "nbformat_minor": 1
}
